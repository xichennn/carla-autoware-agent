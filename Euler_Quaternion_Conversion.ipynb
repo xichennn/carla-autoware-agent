{
 "cells": [
  {
   "cell_type": "code",
   "execution_count": 3,
   "metadata": {},
   "outputs": [],
   "source": [
    "import math"
   ]
  },
  {
   "cell_type": "code",
   "execution_count": 1,
   "metadata": {},
   "outputs": [],
   "source": [
    "roll = 0\n",
    "pitch = 0\n",
    "yaw = 90"
   ]
  },
  {
   "cell_type": "code",
   "execution_count": 5,
   "metadata": {},
   "outputs": [],
   "source": [
    "def to_quaternion(roll,pitch,yaw):\n",
    "    #radian input\n",
    "    cy = math.cos(yaw*0.5)\n",
    "    sy = math.sin(yaw*0.5)\n",
    "    cp = math.cos(pitch*0.5)\n",
    "    sp = math.sin(pitch*0.5)\n",
    "    cr = math.cos(roll*0.5)\n",
    "    sr = math.sin(roll*0.5)\n",
    "    \n",
    "    q_x = sr * cp * cy - cr * sp * sy\n",
    "    q_y = cr * sp * cy + sr * cp * sy\n",
    "    q_z = cr * cp * sy - sr * sp * cy\n",
    "    q_w = cr*cp*cy + sr*sp*sy\n",
    "    \n",
    "    return q_x, q_y, q_z, q_w"
   ]
  },
  {
   "cell_type": "code",
   "execution_count": 27,
   "metadata": {},
   "outputs": [],
   "source": [
    "x, y, z, w = to_quaternion(roll,pitch,math.pi/2)"
   ]
  },
  {
   "cell_type": "code",
   "execution_count": 28,
   "metadata": {},
   "outputs": [
    {
     "name": "stdout",
     "output_type": "stream",
     "text": [
      "[0.0, 0.0, 0.7071067811865475, 0.7071067811865476]\n"
     ]
    }
   ],
   "source": [
    "print([x,y,z,w])"
   ]
  },
  {
   "cell_type": "code",
   "execution_count": 19,
   "metadata": {},
   "outputs": [],
   "source": [
    "def to_EulerAngles(x,y,z,w):\n",
    "    #roll (x-axis rotation)\n",
    "    sinr_cosp = 2*(w*x + y*z)\n",
    "    cosr_cosp = 1-2*(x*x + y*y)\n",
    "    roll = math.atan2(sinr_cosp, cosr_cosp)\n",
    "    #pitch (y_axis rotation)\n",
    "    sinp = 2*(w*y - z*x)\n",
    "    if abs(sinp) >= 1:\n",
    "        pitch = math.copysign(math.pi/2, sinp) #use 90 degrees if out of range\n",
    "    else:\n",
    "        pitch = math.asin(sinp)\n",
    "    #yaw (z-axis rotation)\n",
    "    siny_cosp = 2*(w*z + x*y)\n",
    "    cosy_cosp = 1-2*(y*y + z*z)\n",
    "    yaw = math.atan2(siny_cosp, cosy_cosp)\n",
    "    \n",
    "    #radian, math.pi---180\n",
    "    return roll, pitch, yaw\n",
    "            "
   ]
  },
  {
   "cell_type": "code",
   "execution_count": 29,
   "metadata": {},
   "outputs": [],
   "source": [
    "roll, pitch, yaw = to_EulerAngles(x,y,z,w)"
   ]
  },
  {
   "cell_type": "code",
   "execution_count": 30,
   "metadata": {},
   "outputs": [
    {
     "name": "stdout",
     "output_type": "stream",
     "text": [
      "[0.0, 0.0, 1.5707963267948963]\n"
     ]
    }
   ],
   "source": [
    "print([roll,pitch,yaw])"
   ]
  },
  {
   "cell_type": "code",
   "execution_count": 31,
   "metadata": {},
   "outputs": [
    {
     "data": {
      "text/plain": [
       "89.99999999999999"
      ]
     },
     "execution_count": 31,
     "metadata": {},
     "output_type": "execute_result"
    }
   ],
   "source": [
    "yaw/math.pi*180"
   ]
  },
  {
   "cell_type": "code",
   "execution_count": 32,
   "metadata": {},
   "outputs": [
    {
     "data": {
      "text/plain": [
       "0.7071067811865475"
      ]
     },
     "execution_count": 32,
     "metadata": {},
     "output_type": "execute_result"
    }
   ],
   "source": [
    "math.sin(math.pi/4) #45 degrees"
   ]
  }
 ],
 "metadata": {
  "kernelspec": {
   "display_name": "Python 3",
   "language": "python",
   "name": "python3"
  },
  "language_info": {
   "codemirror_mode": {
    "name": "ipython",
    "version": 3
   },
   "file_extension": ".py",
   "mimetype": "text/x-python",
   "name": "python",
   "nbconvert_exporter": "python",
   "pygments_lexer": "ipython3",
   "version": "3.7.4"
  }
 },
 "nbformat": 4,
 "nbformat_minor": 2
}
